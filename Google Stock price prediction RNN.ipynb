{
 "cells": [
  {
   "cell_type": "code",
   "execution_count": 1,
   "metadata": {},
   "outputs": [
    {
     "name": "stderr",
     "output_type": "stream",
     "text": [
      "C:\\Users\\ninad\\anaconda3\\lib\\site-packages\\pandas\\core\\computation\\expressions.py:20: UserWarning: Pandas requires version '2.7.3' or newer of 'numexpr' (version '2.7.1' currently installed).\n",
      "  from pandas.core.computation.check import NUMEXPR_INSTALLED\n"
     ]
    }
   ],
   "source": [
    "\\import pandas as pd"
   ]
  },
  {
   "cell_type": "code",
   "execution_count": 5,
   "metadata": {},
   "outputs": [],
   "source": [
    "df=pd.read_csv('GOOG.csv')"
   ]
  },
  {
   "cell_type": "code",
   "execution_count": 6,
   "metadata": {},
   "outputs": [
    {
     "data": {
      "text/html": [
       "<div>\n",
       "<style scoped>\n",
       "    .dataframe tbody tr th:only-of-type {\n",
       "        vertical-align: middle;\n",
       "    }\n",
       "\n",
       "    .dataframe tbody tr th {\n",
       "        vertical-align: top;\n",
       "    }\n",
       "\n",
       "    .dataframe thead th {\n",
       "        text-align: right;\n",
       "    }\n",
       "</style>\n",
       "<table border=\"1\" class=\"dataframe\">\n",
       "  <thead>\n",
       "    <tr style=\"text-align: right;\">\n",
       "      <th></th>\n",
       "      <th>Date</th>\n",
       "      <th>Open</th>\n",
       "      <th>High</th>\n",
       "      <th>Low</th>\n",
       "      <th>Close</th>\n",
       "      <th>Adj Close</th>\n",
       "      <th>Volume</th>\n",
       "    </tr>\n",
       "  </thead>\n",
       "  <tbody>\n",
       "    <tr>\n",
       "      <th>0</th>\n",
       "      <td>2004-08-19</td>\n",
       "      <td>2.490664</td>\n",
       "      <td>2.591785</td>\n",
       "      <td>2.390042</td>\n",
       "      <td>2.499133</td>\n",
       "      <td>2.499133</td>\n",
       "      <td>897427216</td>\n",
       "    </tr>\n",
       "    <tr>\n",
       "      <th>1</th>\n",
       "      <td>2004-08-20</td>\n",
       "      <td>2.515820</td>\n",
       "      <td>2.716817</td>\n",
       "      <td>2.503118</td>\n",
       "      <td>2.697639</td>\n",
       "      <td>2.697639</td>\n",
       "      <td>458857488</td>\n",
       "    </tr>\n",
       "    <tr>\n",
       "      <th>2</th>\n",
       "      <td>2004-08-23</td>\n",
       "      <td>2.758411</td>\n",
       "      <td>2.826406</td>\n",
       "      <td>2.716070</td>\n",
       "      <td>2.724787</td>\n",
       "      <td>2.724787</td>\n",
       "      <td>366857939</td>\n",
       "    </tr>\n",
       "    <tr>\n",
       "      <th>3</th>\n",
       "      <td>2004-08-24</td>\n",
       "      <td>2.770615</td>\n",
       "      <td>2.779581</td>\n",
       "      <td>2.579581</td>\n",
       "      <td>2.611960</td>\n",
       "      <td>2.611960</td>\n",
       "      <td>306396159</td>\n",
       "    </tr>\n",
       "    <tr>\n",
       "      <th>4</th>\n",
       "      <td>2004-08-25</td>\n",
       "      <td>2.614201</td>\n",
       "      <td>2.689918</td>\n",
       "      <td>2.587302</td>\n",
       "      <td>2.640104</td>\n",
       "      <td>2.640104</td>\n",
       "      <td>184645512</td>\n",
       "    </tr>\n",
       "  </tbody>\n",
       "</table>\n",
       "</div>"
      ],
      "text/plain": [
       "         Date      Open      High       Low     Close  Adj Close     Volume\n",
       "0  2004-08-19  2.490664  2.591785  2.390042  2.499133   2.499133  897427216\n",
       "1  2004-08-20  2.515820  2.716817  2.503118  2.697639   2.697639  458857488\n",
       "2  2004-08-23  2.758411  2.826406  2.716070  2.724787   2.724787  366857939\n",
       "3  2004-08-24  2.770615  2.779581  2.579581  2.611960   2.611960  306396159\n",
       "4  2004-08-25  2.614201  2.689918  2.587302  2.640104   2.640104  184645512"
      ]
     },
     "execution_count": 6,
     "metadata": {},
     "output_type": "execute_result"
    }
   ],
   "source": [
    "df.head()"
   ]
  },
  {
   "cell_type": "code",
   "execution_count": 11,
   "metadata": {},
   "outputs": [],
   "source": [
    "df1=df[['Open']].copy()"
   ]
  },
  {
   "cell_type": "code",
   "execution_count": 12,
   "metadata": {},
   "outputs": [
    {
     "data": {
      "text/html": [
       "<div>\n",
       "<style scoped>\n",
       "    .dataframe tbody tr th:only-of-type {\n",
       "        vertical-align: middle;\n",
       "    }\n",
       "\n",
       "    .dataframe tbody tr th {\n",
       "        vertical-align: top;\n",
       "    }\n",
       "\n",
       "    .dataframe thead th {\n",
       "        text-align: right;\n",
       "    }\n",
       "</style>\n",
       "<table border=\"1\" class=\"dataframe\">\n",
       "  <thead>\n",
       "    <tr style=\"text-align: right;\">\n",
       "      <th></th>\n",
       "      <th>Open</th>\n",
       "    </tr>\n",
       "  </thead>\n",
       "  <tbody>\n",
       "    <tr>\n",
       "      <th>0</th>\n",
       "      <td>2.490664</td>\n",
       "    </tr>\n",
       "    <tr>\n",
       "      <th>1</th>\n",
       "      <td>2.515820</td>\n",
       "    </tr>\n",
       "    <tr>\n",
       "      <th>2</th>\n",
       "      <td>2.758411</td>\n",
       "    </tr>\n",
       "    <tr>\n",
       "      <th>3</th>\n",
       "      <td>2.770615</td>\n",
       "    </tr>\n",
       "    <tr>\n",
       "      <th>4</th>\n",
       "      <td>2.614201</td>\n",
       "    </tr>\n",
       "  </tbody>\n",
       "</table>\n",
       "</div>"
      ],
      "text/plain": [
       "       Open\n",
       "0  2.490664\n",
       "1  2.515820\n",
       "2  2.758411\n",
       "3  2.770615\n",
       "4  2.614201"
      ]
     },
     "execution_count": 12,
     "metadata": {},
     "output_type": "execute_result"
    }
   ],
   "source": [
    "df1.head()"
   ]
  },
  {
   "cell_type": "code",
   "execution_count": 13,
   "metadata": {},
   "outputs": [
    {
     "data": {
      "text/plain": [
       "(4858, 1)"
      ]
     },
     "execution_count": 13,
     "metadata": {},
     "output_type": "execute_result"
    }
   ],
   "source": [
    "df1.shape"
   ]
  },
  {
   "cell_type": "code",
   "execution_count": 15,
   "metadata": {},
   "outputs": [
    {
     "data": {
      "image/png": "[encoded data removed]",
      "text/plain": [
       "<Figure size 720x360 with 1 Axes>"
      ]
     },
     "metadata": {
      "needs_background": "light"
     },
     "output_type": "display_data"
    }
   ],
   "source": [
    "import matplotlib.pylab as plt\n",
    "plt.figure(figsize=(10,5))\n",
    "plt.plot(df1,color='green')\n",
    "plt.show()"
   ]
  },
  {
   "cell_type": "code",
   "execution_count": 31,
   "metadata": {},
   "outputs": [],
   "source": [
    "from sklearn.preprocessing import MinMaxScaler\n",
    "mm=MinMaxScaler(feature_range=(0,1))\n",
    "scaled=mm.fit_transform(df1)"
   ]
  },
  {
   "cell_type": "code",
   "execution_count": 32,
   "metadata": {},
   "outputs": [],
   "source": [
    "df1=pd.DataFrame(scaled)"
   ]
  },
  {
   "cell_type": "code",
   "execution_count": 34,
   "metadata": {},
   "outputs": [],
   "source": [
    "x_train=df1[59:4857]\n",
    "y_train=df1[60:4858]"
   ]
  },
  {
   "cell_type": "code",
   "execution_count": 35,
   "metadata": {},
   "outputs": [
    {
     "data": {
      "text/plain": [
       "(4798, 1)"
      ]
     },
     "execution_count": 35,
     "metadata": {},
     "output_type": "execute_result"
    }
   ],
   "source": [
    "x_train.shape"
   ]
  },
  {
   "cell_type": "code",
   "execution_count": 36,
   "metadata": {},
   "outputs": [],
   "source": [
    "import numpy as np"
   ]
  },
  {
   "cell_type": "code",
   "execution_count": 38,
   "metadata": {},
   "outputs": [
    {
     "data": {
      "text/plain": [
       "(4798, 1, 1)"
      ]
     },
     "execution_count": 38,
     "metadata": {},
     "output_type": "execute_result"
    }
   ],
   "source": [
    "x_train=np.reshape(x_train,(4798,1,1))\n",
    "x_train.shape"
   ]
  },
  {
   "cell_type": "code",
   "execution_count": 39,
   "metadata": {},
   "outputs": [],
   "source": [
    "import keras \n",
    "from keras.models import Sequential\n",
    "from keras.layers import Dense,LSTM,Dropout"
   ]
  },
  {
   "cell_type": "code",
   "execution_count": 40,
   "metadata": {},
   "outputs": [],
   "source": [
    "regressor=Sequential()\n",
    "regressor.add(LSTM(units=50,return_sequences=True,input_shape=(x_train.shape[1],1)))\n",
    "\n",
    "regressor.add(Dropout(0.2))"
   ]
  },
  {
   "cell_type": "code",
   "execution_count": 41,
   "metadata": {},
   "outputs": [],
   "source": [
    "regressor.add(LSTM(units=50,return_sequences=True))\n",
    "regressor.add(Dropout(0.2))"
   ]
  },
  {
   "cell_type": "code",
   "execution_count": 42,
   "metadata": {},
   "outputs": [],
   "source": [
    "regressor.add(LSTM(units=50))\n",
    "regressor.add(Dropout(0.2))"
   ]
  },
  {
   "cell_type": "code",
   "execution_count": 43,
   "metadata": {},
   "outputs": [],
   "source": [
    "regressor.add(Dense(units=1))\n"
   ]
  },
  {
   "cell_type": "code",
   "execution_count": 44,
   "metadata": {},
   "outputs": [],
   "source": [
    "regressor.compile(optimizer='adam',loss='mean_squared_error')"
   ]
  },
  {
   "cell_type": "code",
   "execution_count": 45,
   "metadata": {},
   "outputs": [
    {
     "name": "stdout",
     "output_type": "stream",
     "text": [
      "Epoch 1/100\n",
      "150/150 [==============================] - 5s 3ms/step - loss: 0.0362\n",
      "Epoch 2/100\n",
      "150/150 [==============================] - 0s 3ms/step - loss: 0.0027\n",
      "Epoch 3/100\n",
      "150/150 [==============================] - 0s 3ms/step - loss: 0.0020\n",
      "Epoch 4/100\n",
      "150/150 [==============================] - 0s 3ms/step - loss: 0.0016\n",
      "Epoch 5/100\n",
      "150/150 [==============================] - 0s 3ms/step - loss: 0.0014\n",
      "Epoch 6/100\n",
      "150/150 [==============================] - 0s 3ms/step - loss: 0.0014\n",
      "Epoch 7/100\n",
      "150/150 [==============================] - 1s 3ms/step - loss: 0.0013\n",
      "Epoch 8/100\n",
      "150/150 [==============================] - 0s 3ms/step - loss: 0.0013\n",
      "Epoch 9/100\n",
      "150/150 [==============================] - 0s 3ms/step - loss: 0.0013\n",
      "Epoch 10/100\n",
      "150/150 [==============================] - 0s 3ms/step - loss: 0.0012\n",
      "Epoch 11/100\n",
      "150/150 [==============================] - 0s 3ms/step - loss: 0.0011\n",
      "Epoch 12/100\n",
      "150/150 [==============================] - 0s 3ms/step - loss: 0.0012\n",
      "Epoch 13/100\n",
      "150/150 [==============================] - 0s 3ms/step - loss: 0.0012\n",
      "Epoch 14/100\n",
      "150/150 [==============================] - 0s 3ms/step - loss: 0.0012\n",
      "Epoch 15/100\n",
      "150/150 [==============================] - 1s 3ms/step - loss: 0.0011\n",
      "Epoch 16/100\n",
      "150/150 [==============================] - 0s 3ms/step - loss: 0.0011\n",
      "Epoch 17/100\n",
      "150/150 [==============================] - 0s 3ms/step - loss: 0.0011\n",
      "Epoch 18/100\n",
      "150/150 [==============================] - 0s 3ms/step - loss: 0.0011\n",
      "Epoch 19/100\n",
      "150/150 [==============================] - 0s 3ms/step - loss: 0.0011\n",
      "Epoch 20/100\n",
      "150/150 [==============================] - 0s 3ms/step - loss: 0.0011\n",
      "Epoch 21/100\n",
      "150/150 [==============================] - 0s 3ms/step - loss: 9.8228e-04\n",
      "Epoch 22/100\n",
      "150/150 [==============================] - 0s 3ms/step - loss: 9.8589e-04\n",
      "Epoch 23/100\n",
      "150/150 [==============================] - 0s 3ms/step - loss: 0.0011\n",
      "Epoch 24/100\n",
      "150/150 [==============================] - 0s 3ms/step - loss: 9.9771e-04\n",
      "Epoch 25/100\n",
      "150/150 [==============================] - 0s 3ms/step - loss: 0.0010\n",
      "Epoch 26/100\n",
      "150/150 [==============================] - 0s 3ms/step - loss: 9.8039e-04\n",
      "Epoch 27/100\n",
      "150/150 [==============================] - 0s 3ms/step - loss: 9.5534e-04\n",
      "Epoch 28/100\n",
      "150/150 [==============================] - 0s 3ms/step - loss: 9.1900e-04\n",
      "Epoch 29/100\n",
      "150/150 [==============================] - 0s 3ms/step - loss: 9.3400e-04\n",
      "Epoch 30/100\n",
      "150/150 [==============================] - 0s 3ms/step - loss: 9.1637e-04\n",
      "Epoch 31/100\n",
      "150/150 [==============================] - 0s 3ms/step - loss: 9.0274e-04\n",
      "Epoch 32/100\n",
      "150/150 [==============================] - 0s 3ms/step - loss: 9.5860e-04\n",
      "Epoch 33/100\n",
      "150/150 [==============================] - 0s 3ms/step - loss: 9.8513e-04\n",
      "Epoch 34/100\n",
      "150/150 [==============================] - 0s 3ms/step - loss: 9.3019e-04\n",
      "Epoch 35/100\n",
      "150/150 [==============================] - 0s 3ms/step - loss: 9.2277e-04\n",
      "Epoch 36/100\n",
      "150/150 [==============================] - 0s 3ms/step - loss: 8.6935e-04\n",
      "Epoch 37/100\n",
      "150/150 [==============================] - 0s 3ms/step - loss: 9.2254e-04\n",
      "Epoch 38/100\n",
      "150/150 [==============================] - 0s 3ms/step - loss: 9.2147e-04\n",
      "Epoch 39/100\n",
      "150/150 [==============================] - 0s 3ms/step - loss: 8.9458e-04\n",
      "Epoch 40/100\n",
      "150/150 [==============================] - 0s 3ms/step - loss: 8.9309e-04\n",
      "Epoch 41/100\n",
      "150/150 [==============================] - 0s 3ms/step - loss: 9.3997e-04\n",
      "Epoch 42/100\n",
      "150/150 [==============================] - 1s 4ms/step - loss: 9.8570e-04\n",
      "Epoch 43/100\n",
      "150/150 [==============================] - 1s 3ms/step - loss: 9.4948e-04\n",
      "Epoch 44/100\n",
      "150/150 [==============================] - 1s 4ms/step - loss: 9.1320e-04\n",
      "Epoch 45/100\n",
      "150/150 [==============================] - 0s 3ms/step - loss: 9.3973e-04\n",
      "Epoch 46/100\n",
      "150/150 [==============================] - 0s 3ms/step - loss: 8.1146e-04\n",
      "Epoch 47/100\n",
      "150/150 [==============================] - 0s 3ms/step - loss: 8.5850e-04\n",
      "Epoch 48/100\n",
      "150/150 [==============================] - 0s 3ms/step - loss: 8.6142e-04\n",
      "Epoch 49/100\n",
      "150/150 [==============================] - 0s 3ms/step - loss: 8.9864e-04\n",
      "Epoch 50/100\n",
      "150/150 [==============================] - 0s 3ms/step - loss: 8.4351e-04\n",
      "Epoch 51/100\n",
      "150/150 [==============================] - 0s 3ms/step - loss: 8.7038e-04\n",
      "Epoch 52/100\n",
      "150/150 [==============================] - 0s 3ms/step - loss: 8.5620e-04\n",
      "Epoch 53/100\n",
      "150/150 [==============================] - 0s 3ms/step - loss: 8.7670e-04\n",
      "Epoch 54/100\n",
      "150/150 [==============================] - 0s 3ms/step - loss: 8.6454e-04\n",
      "Epoch 55/100\n",
      "150/150 [==============================] - 0s 3ms/step - loss: 9.1134e-04\n",
      "Epoch 56/100\n",
      "150/150 [==============================] - 0s 3ms/step - loss: 9.2361e-04\n",
      "Epoch 57/100\n",
      "150/150 [==============================] - 0s 3ms/step - loss: 8.9120e-04\n",
      "Epoch 58/100\n",
      "150/150 [==============================] - 0s 3ms/step - loss: 8.7734e-04\n",
      "Epoch 59/100\n",
      "150/150 [==============================] - 0s 3ms/step - loss: 8.9597e-04\n",
      "Epoch 60/100\n",
      "150/150 [==============================] - 0s 3ms/step - loss: 8.4252e-04\n",
      "Epoch 61/100\n",
      "150/150 [==============================] - 0s 3ms/step - loss: 8.9662e-04\n",
      "Epoch 62/100\n",
      "150/150 [==============================] - 0s 3ms/step - loss: 8.6342e-04\n",
      "Epoch 63/100\n",
      "150/150 [==============================] - 0s 3ms/step - loss: 8.7216e-04\n",
      "Epoch 64/100\n",
      "150/150 [==============================] - 0s 3ms/step - loss: 8.3106e-04\n",
      "Epoch 65/100\n",
      "150/150 [==============================] - 0s 3ms/step - loss: 9.2614e-04\n",
      "Epoch 66/100\n",
      "150/150 [==============================] - 0s 3ms/step - loss: 8.6583e-04\n",
      "Epoch 67/100\n",
      "150/150 [==============================] - 0s 3ms/step - loss: 8.5108e-04\n",
      "Epoch 68/100\n",
      "150/150 [==============================] - 0s 3ms/step - loss: 9.0213e-04\n",
      "Epoch 69/100\n",
      "150/150 [==============================] - 0s 3ms/step - loss: 9.2552e-04\n",
      "Epoch 70/100\n",
      "150/150 [==============================] - 0s 3ms/step - loss: 8.8125e-04\n",
      "Epoch 71/100\n",
      "150/150 [==============================] - 0s 3ms/step - loss: 8.5298e-04\n",
      "Epoch 72/100\n",
      "150/150 [==============================] - 0s 3ms/step - loss: 8.6671e-04\n",
      "Epoch 73/100\n",
      "150/150 [==============================] - 0s 3ms/step - loss: 8.6540e-04\n",
      "Epoch 74/100\n",
      "150/150 [==============================] - 0s 3ms/step - loss: 8.6440e-04\n",
      "Epoch 75/100\n",
      "150/150 [==============================] - 0s 3ms/step - loss: 8.8645e-04\n",
      "Epoch 76/100\n",
      "150/150 [==============================] - 0s 3ms/step - loss: 8.4808e-04\n",
      "Epoch 77/100\n",
      "150/150 [==============================] - 0s 3ms/step - loss: 8.2757e-04\n",
      "Epoch 78/100\n",
      "150/150 [==============================] - 0s 3ms/step - loss: 8.6995e-04\n",
      "Epoch 79/100\n",
      "150/150 [==============================] - 0s 3ms/step - loss: 8.2731e-04\n",
      "Epoch 80/100\n",
      "150/150 [==============================] - 0s 3ms/step - loss: 9.2852e-04\n",
      "Epoch 81/100\n",
      "150/150 [==============================] - 0s 3ms/step - loss: 8.9319e-04\n",
      "Epoch 82/100\n",
      "150/150 [==============================] - 0s 3ms/step - loss: 8.6314e-04\n",
      "Epoch 83/100\n",
      "150/150 [==============================] - 0s 3ms/step - loss: 8.5712e-04\n",
      "Epoch 84/100\n",
      "150/150 [==============================] - 0s 3ms/step - loss: 8.6411e-04\n",
      "Epoch 85/100\n",
      "150/150 [==============================] - 0s 3ms/step - loss: 8.5010e-04\n",
      "Epoch 86/100\n",
      "150/150 [==============================] - 0s 3ms/step - loss: 8.1102e-04\n",
      "Epoch 87/100\n",
      "150/150 [==============================] - 0s 3ms/step - loss: 8.8848e-04\n",
      "Epoch 88/100\n",
      "150/150 [==============================] - 0s 3ms/step - loss: 8.9026e-04\n",
      "Epoch 89/100\n",
      "150/150 [==============================] - 0s 3ms/step - loss: 9.0019e-04\n",
      "Epoch 90/100\n",
      "150/150 [==============================] - 0s 3ms/step - loss: 8.9551e-04\n",
      "Epoch 91/100\n",
      "150/150 [==============================] - 0s 3ms/step - loss: 8.5921e-04\n",
      "Epoch 92/100\n",
      "150/150 [==============================] - 0s 3ms/step - loss: 8.6221e-04\n",
      "Epoch 93/100\n",
      "150/150 [==============================] - 0s 3ms/step - loss: 8.7366e-04\n",
      "Epoch 94/100\n",
      "150/150 [==============================] - 0s 3ms/step - loss: 8.5126e-04\n",
      "Epoch 95/100\n",
      "150/150 [==============================] - 0s 3ms/step - loss: 8.2640e-04\n",
      "Epoch 96/100\n",
      "150/150 [==============================] - 0s 3ms/step - loss: 9.1605e-04\n",
      "Epoch 97/100\n",
      "150/150 [==============================] - 0s 3ms/step - loss: 8.5070e-04\n",
      "Epoch 98/100\n",
      "150/150 [==============================] - 0s 3ms/step - loss: 8.9343e-04\n",
      "Epoch 99/100\n",
      "150/150 [==============================] - 0s 3ms/step - loss: 8.2408e-04\n",
      "Epoch 100/100\n",
      "150/150 [==============================] - 0s 3ms/step - loss: 8.3557e-04\n"
     ]
    },
    {
     "data": {
      "text/plain": [
       "<keras.src.callbacks.History at 0x215fd501dc0>"
      ]
     },
     "execution_count": 45,
     "metadata": {},
     "output_type": "execute_result"
    }
   ],
   "source": [
    "regressor.fit(x_train,y_train,epochs=100,batch_size=32)"
   ]
  },
  {
   "cell_type": "code",
   "execution_count": 66,
   "metadata": {},
   "outputs": [
    {
     "name": "stdout",
     "output_type": "stream",
     "text": [
      "40\n"
     ]
    }
   ],
   "source": [
    "test=pd.read_csv('Goog_test.csv')\n",
    "df2=test.iloc[:,1:2]\n",
    "print(len(df2))"
   ]
  },
  {
   "cell_type": "code",
   "execution_count": 67,
   "metadata": {},
   "outputs": [],
   "source": [
    "input_val=df2\n",
    "input_val=mm.fit_transform(input_val)"
   ]
  },
  {
   "cell_type": "code",
   "execution_count": 68,
   "metadata": {},
   "outputs": [],
   "source": [
    "input_val=np.reshape(input_val,(40,1,1))"
   ]
  },
  {
   "cell_type": "code",
   "execution_count": 69,
   "metadata": {},
   "outputs": [
    {
     "name": "stdout",
     "output_type": "stream",
     "text": [
      "2/2 [==============================] - 0s 3ms/step\n"
     ]
    }
   ],
   "source": [
    "prediction=regressor.predict(input_val)\n",
    "prediction=mm.inverse_transform(prediction)"
   ]
  },
  {
   "cell_type": "code",
   "execution_count": 70,
   "metadata": {},
   "outputs": [
    {
     "data": {
      "image/png": "[encoded data removed]",
      "text/plain": [
       "<Figure size 1080x576 with 1 Axes>"
      ]
     },
     "metadata": {
      "needs_background": "light"
     },
     "output_type": "display_data"
    }
   ],
   "source": [
    "plt.rcParams['figure.figsize']=(15,8)\n",
    "plt.plot(df2,color='red',label='Real Price')\n",
    "plt.plot(prediction,color='green',label='Predicted Price')\n",
    "plt.legend()\n",
    "plt.show()"
   ]
  },
  {
   "cell_type": "code",
   "execution_count": null,
   "metadata": {},
   "outputs": [],
   "source": []
  }
 ],
 "metadata": {
  "kernelspec": {
   "display_name": "Python 3",
   "language": "python",
   "name": "python3"
  },
  "language_info": {
   "codemirror_mode": {
    "name": "ipython",
    "version": 3
   },
   "file_extension": ".py",
   "mimetype": "text/x-python",
   "name": "python",
   "nbconvert_exporter": "python",
   "pygments_lexer": "ipython3",
   "version": "3.8.5"
  }
 },
 "nbformat": 4,
 "nbformat_minor": 4
}
